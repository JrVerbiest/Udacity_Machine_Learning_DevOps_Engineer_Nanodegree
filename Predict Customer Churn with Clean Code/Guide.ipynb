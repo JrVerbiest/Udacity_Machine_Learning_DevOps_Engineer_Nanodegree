{
 "cells": [
  {
   "cell_type": "markdown",
   "metadata": {
    "editable": true,
    "ulab": {
     "buttons": {
      "ulab-button-a88d4430": {
       "bashCommand": "pip install scikit-learn==0.22 shap pylint autopep8 && clear",
       "filesToOpen": [],
       "isPreviewButton": false,
       "runInBackground": false,
       "style": "primary",
       "text": "INSTALL LIBRARIES",
       "toggleOffText": "HIDE SOLUTION",
       "toggleOnText": "SHOW SOLUTION"
      }
     }
    }
   },
   "source": [
    "# Predict Customer Churn\n",
    "\n",
    "You can make sure the necessary libraries are included herein with the below button.\n",
    "\n",
    "<button id=\"ulab-button-a88d4430\" class=\"ulab-btn--primary\"></button>\n",
    "\n",
    "### Instructions\n",
    "\n",
    "By clicking the folder icon in the top left of this workspace, you can see the folder and file structure for this project.  \n",
    "\n",
    "Each of the three files you need to complete for this project are already created for you and in the other open tab:\n",
    "\n",
    "1. `churn_library.py`\n",
    "2. `churn_script_logging_and_tests.py`\n",
    "3. `README.md`\n",
    "\n",
    "As this is a project in best coding practices, a notebook of the original code used to solve the problem has been provided already in the `churn_notebook.ipynb` (available in this tab).\n",
    "\n",
    "It will be your job for this project to use this starting code to complete the two `.py` files listed above.  \n",
    "\n",
    "You will notice there are a number of functions that have already been provided with document strings in each of these files.  These functions have been set up to guide you to a solution (no intended tricks here).  However, if you would like to refactor the notebook in an alternative way to the setup in these files that is also okay, as long as you meet all the requirements in the <a href=\"https://review.udacity.com/#!/rubrics/3094/view\" target=\"_blank\">Rubric</a>."
   ]
  },
  {
   "cell_type": "markdown",
   "metadata": {
    "editable": true
   },
   "source": [
    "### Setting Up Environment Trouble Shooting\n",
    "\n",
    "Though many of the libraries used in this notebook are a common part of data manipulation and machine learning models, there are a few useful command line installations that might prove to be useful when working in this workspace, as well as if you try to run files on your local machine.\n",
    "\n",
    "**Error**\n",
    "```\n",
    "QXcbConnection: Could not connect to display\n",
    "Aborted\n",
    "```\n",
    "\n",
    "**Solution**\n",
    "```\n",
    "import os\n",
    "os.environ['QT_QPA_PLATFORM']='offscreen'\n",
    "```\n",
    "\n",
    "Install the linter and auto-formatter:\n",
    "```\n",
    "pip install pylint\n",
    "pip install autopep8\n",
    "```"
   ]
  },
  {
   "cell_type": "markdown",
   "metadata": {
    "editable": true
   },
   "source": [
    "### Formatting, Linting & Running Scripts\n",
    "\n",
    "Once you have scripted your results, the following should hold:\n",
    "\n",
    "1. Running the below code in the terminal should test each of the functions and provide any errors to a file stored in the `logs` folder.\n",
    "\n",
    "```\n",
    "ipython churn_script_logging_and_tests.py\n",
    "```\n",
    "\n",
    "\n",
    "2. You may choose to add an `if __name__ == \"__main__\"` block that allows you to run the code below and understand the results for each of the functions and refactored code associated with the original notebook.\n",
    "\n",
    "```\n",
    "ipython churn_library.py\n",
    "```\n",
    "\n",
    "\n",
    "3. You should check the pylint score using the below.  Many of the common data science variable names don't meet pep8 standards, and these are probably okay to leave.\n",
    "\n",
    "```\n",
    "pylint churn_library.py\n",
    "pylint churn_script_logging_and_tests.py\n",
    "```\n",
    "You should make sure you don't have any errors, and that your code is scoring as high as you can get it!  You might shoot for well over 7.\n",
    "\n",
    "\n",
    "4. To assist with meeting pep 8 guidelines, use `autopep8` via the command line commands below:\n",
    "\n",
    "```\n",
    "autopep8 --in-place --aggressive --aggressive churn_script_logging_and_tests.py\n",
    "autopep8 --in-place --aggressive --aggressive churn_library.py\n",
    "```"
   ]
  }
 ],
 "metadata": {
  "kernelspec": {
   "display_name": "Python 3",
   "language": "python",
   "name": "python3"
  },
  "language_info": {
   "codemirror_mode": {
    "name": "ipython",
    "version": 3
   },
   "file_extension": ".py",
   "mimetype": "text/x-python",
   "name": "python",
   "nbconvert_exporter": "python",
   "pygments_lexer": "ipython3",
   "version": "3.6.3"
  },
  "ulab_nb_type": "guided"
 },
 "nbformat": 4,
 "nbformat_minor": 4
}
